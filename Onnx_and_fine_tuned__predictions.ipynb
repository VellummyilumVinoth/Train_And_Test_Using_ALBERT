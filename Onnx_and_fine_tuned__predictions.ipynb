{
  "nbformat": 4,
  "nbformat_minor": 0,
  "metadata": {
    "colab": {
      "provenance": [],
      "gpuType": "T4",
      "include_colab_link": true
    },
    "kernelspec": {
      "name": "python3",
      "display_name": "Python 3"
    },
    "language_info": {
      "name": "python"
    },
    "accelerator": "GPU"
  },
  "cells": [
    {
      "cell_type": "markdown",
      "metadata": {
        "id": "view-in-github",
        "colab_type": "text"
      },
      "source": [
        "<a href=\"https://colab.research.google.com/github/VellummyilumVinoth/Train_And_Test_Using_ALBERT/blob/main/Onnx_and_fine_tuned__predictions.ipynb\" target=\"_parent\"><img src=\"https://colab.research.google.com/assets/colab-badge.svg\" alt=\"Open In Colab\"/></a>"
      ]
    },
    {
      "cell_type": "code",
      "source": [
        "# Install required libraries\n",
        "!pip install transformers transformers[onnx]"
      ],
      "metadata": {
        "colab": {
          "base_uri": "https://localhost:8080/"
        },
        "id": "u9QbY_1URK-c",
        "outputId": "4994284d-29a3-4b74-b6a1-6290a64c1140"
      },
      "execution_count": null,
      "outputs": [
        {
          "output_type": "stream",
          "name": "stdout",
          "text": [
            "Collecting transformers\n",
            "  Downloading transformers-4.30.2-py3-none-any.whl (7.2 MB)\n",
            "\u001b[2K     \u001b[90m━━━━━━━━━━━━━━━━━━━━━━━━━━━━━━━━━━━━━━━━\u001b[0m \u001b[32m7.2/7.2 MB\u001b[0m \u001b[31m28.9 MB/s\u001b[0m eta \u001b[36m0:00:00\u001b[0m\n",
            "\u001b[?25hRequirement already satisfied: filelock in /usr/local/lib/python3.10/dist-packages (from transformers) (3.12.2)\n",
            "Collecting huggingface-hub<1.0,>=0.14.1 (from transformers)\n",
            "  Downloading huggingface_hub-0.16.4-py3-none-any.whl (268 kB)\n",
            "\u001b[2K     \u001b[90m━━━━━━━━━━━━━━━━━━━━━━━━━━━━━━━━━━━━━━\u001b[0m \u001b[32m268.8/268.8 kB\u001b[0m \u001b[31m20.6 MB/s\u001b[0m eta \u001b[36m0:00:00\u001b[0m\n",
            "\u001b[?25hRequirement already satisfied: numpy>=1.17 in /usr/local/lib/python3.10/dist-packages (from transformers) (1.22.4)\n",
            "Requirement already satisfied: packaging>=20.0 in /usr/local/lib/python3.10/dist-packages (from transformers) (23.1)\n",
            "Requirement already satisfied: pyyaml>=5.1 in /usr/local/lib/python3.10/dist-packages (from transformers) (6.0)\n",
            "Requirement already satisfied: regex!=2019.12.17 in /usr/local/lib/python3.10/dist-packages (from transformers) (2022.10.31)\n",
            "Requirement already satisfied: requests in /usr/local/lib/python3.10/dist-packages (from transformers) (2.27.1)\n",
            "Collecting tokenizers!=0.11.3,<0.14,>=0.11.1 (from transformers)\n",
            "  Downloading tokenizers-0.13.3-cp310-cp310-manylinux_2_17_x86_64.manylinux2014_x86_64.whl (7.8 MB)\n",
            "\u001b[2K     \u001b[90m━━━━━━━━━━━━━━━━━━━━━━━━━━━━━━━━━━━━━━━━\u001b[0m \u001b[32m7.8/7.8 MB\u001b[0m \u001b[31m59.8 MB/s\u001b[0m eta \u001b[36m0:00:00\u001b[0m\n",
            "\u001b[?25hCollecting safetensors>=0.3.1 (from transformers)\n",
            "  Downloading safetensors-0.3.1-cp310-cp310-manylinux_2_17_x86_64.manylinux2014_x86_64.whl (1.3 MB)\n",
            "\u001b[2K     \u001b[90m━━━━━━━━━━━━━━━━━━━━━━━━━━━━━━━━━━━━━━━━\u001b[0m \u001b[32m1.3/1.3 MB\u001b[0m \u001b[31m47.9 MB/s\u001b[0m eta \u001b[36m0:00:00\u001b[0m\n",
            "\u001b[?25hRequirement already satisfied: tqdm>=4.27 in /usr/local/lib/python3.10/dist-packages (from transformers) (4.65.0)\n",
            "Collecting onnxconverter-common (from transformers)\n",
            "  Downloading onnxconverter_common-1.13.0-py2.py3-none-any.whl (83 kB)\n",
            "\u001b[2K     \u001b[90m━━━━━━━━━━━━━━━━━━━━━━━━━━━━━━━━━━━━━━━━\u001b[0m \u001b[32m83.8/83.8 kB\u001b[0m \u001b[31m7.7 MB/s\u001b[0m eta \u001b[36m0:00:00\u001b[0m\n",
            "\u001b[?25hCollecting tf2onnx (from transformers)\n",
            "  Downloading tf2onnx-1.14.0-py3-none-any.whl (451 kB)\n",
            "\u001b[2K     \u001b[90m━━━━━━━━━━━━━━━━━━━━━━━━━━━━━━━━━━━━━━\u001b[0m \u001b[32m451.2/451.2 kB\u001b[0m \u001b[31m27.1 MB/s\u001b[0m eta \u001b[36m0:00:00\u001b[0m\n",
            "\u001b[?25hCollecting onnxruntime>=1.4.0 (from transformers)\n",
            "  Downloading onnxruntime-1.15.1-cp310-cp310-manylinux_2_17_x86_64.manylinux2014_x86_64.whl (5.9 MB)\n",
            "\u001b[2K     \u001b[90m━━━━━━━━━━━━━━━━━━━━━━━━━━━━━━━━━━━━━━━━\u001b[0m \u001b[32m5.9/5.9 MB\u001b[0m \u001b[31m52.2 MB/s\u001b[0m eta \u001b[36m0:00:00\u001b[0m\n",
            "\u001b[?25hCollecting onnxruntime-tools>=1.4.2 (from transformers)\n",
            "  Downloading onnxruntime_tools-1.7.0-py3-none-any.whl (212 kB)\n",
            "\u001b[2K     \u001b[90m━━━━━━━━━━━━━━━━━━━━━━━━━━━━━━━━━━━━━━\u001b[0m \u001b[32m212.7/212.7 kB\u001b[0m \u001b[31m16.8 MB/s\u001b[0m eta \u001b[36m0:00:00\u001b[0m\n",
            "\u001b[?25hRequirement already satisfied: fsspec in /usr/local/lib/python3.10/dist-packages (from huggingface-hub<1.0,>=0.14.1->transformers) (2023.6.0)\n",
            "Requirement already satisfied: typing-extensions>=3.7.4.3 in /usr/local/lib/python3.10/dist-packages (from huggingface-hub<1.0,>=0.14.1->transformers) (4.7.1)\n",
            "Collecting coloredlogs (from onnxruntime>=1.4.0->transformers)\n",
            "  Downloading coloredlogs-15.0.1-py2.py3-none-any.whl (46 kB)\n",
            "\u001b[2K     \u001b[90m━━━━━━━━━━━━━━━━━━━━━━━━━━━━━━━━━━━━━━━━\u001b[0m \u001b[32m46.0/46.0 kB\u001b[0m \u001b[31m3.5 MB/s\u001b[0m eta \u001b[36m0:00:00\u001b[0m\n",
            "\u001b[?25hRequirement already satisfied: flatbuffers in /usr/local/lib/python3.10/dist-packages (from onnxruntime>=1.4.0->transformers) (23.5.26)\n",
            "Requirement already satisfied: protobuf in /usr/local/lib/python3.10/dist-packages (from onnxruntime>=1.4.0->transformers) (3.20.3)\n",
            "Requirement already satisfied: sympy in /usr/local/lib/python3.10/dist-packages (from onnxruntime>=1.4.0->transformers) (1.11.1)\n",
            "Collecting onnx (from onnxruntime-tools>=1.4.2->transformers)\n",
            "  Downloading onnx-1.14.0-cp310-cp310-manylinux_2_17_x86_64.manylinux2014_x86_64.whl (14.6 MB)\n",
            "\u001b[2K     \u001b[90m━━━━━━━━━━━━━━━━━━━━━━━━━━━━━━━━━━━━━━━━\u001b[0m \u001b[32m14.6/14.6 MB\u001b[0m \u001b[31m36.4 MB/s\u001b[0m eta \u001b[36m0:00:00\u001b[0m\n",
            "\u001b[?25hRequirement already satisfied: psutil in /usr/local/lib/python3.10/dist-packages (from onnxruntime-tools>=1.4.2->transformers) (5.9.5)\n",
            "Requirement already satisfied: py-cpuinfo in /usr/local/lib/python3.10/dist-packages (from onnxruntime-tools>=1.4.2->transformers) (9.0.0)\n",
            "Collecting py3nvml (from onnxruntime-tools>=1.4.2->transformers)\n",
            "  Downloading py3nvml-0.2.7-py3-none-any.whl (55 kB)\n",
            "\u001b[2K     \u001b[90m━━━━━━━━━━━━━━━━━━━━━━━━━━━━━━━━━━━━━━━━\u001b[0m \u001b[32m55.5/55.5 kB\u001b[0m \u001b[31m5.2 MB/s\u001b[0m eta \u001b[36m0:00:00\u001b[0m\n",
            "\u001b[?25hRequirement already satisfied: urllib3<1.27,>=1.21.1 in /usr/local/lib/python3.10/dist-packages (from requests->transformers) (1.26.16)\n",
            "Requirement already satisfied: certifi>=2017.4.17 in /usr/local/lib/python3.10/dist-packages (from requests->transformers) (2023.5.7)\n",
            "Requirement already satisfied: charset-normalizer~=2.0.0 in /usr/local/lib/python3.10/dist-packages (from requests->transformers) (2.0.12)\n",
            "Requirement already satisfied: idna<4,>=2.5 in /usr/local/lib/python3.10/dist-packages (from requests->transformers) (3.4)\n",
            "Requirement already satisfied: six in /usr/local/lib/python3.10/dist-packages (from tf2onnx->transformers) (1.16.0)\n",
            "Collecting flatbuffers (from onnxruntime>=1.4.0->transformers)\n",
            "  Downloading flatbuffers-2.0.7-py2.py3-none-any.whl (26 kB)\n",
            "Collecting humanfriendly>=9.1 (from coloredlogs->onnxruntime>=1.4.0->transformers)\n",
            "  Downloading humanfriendly-10.0-py2.py3-none-any.whl (86 kB)\n",
            "\u001b[2K     \u001b[90m━━━━━━━━━━━━━━━━━━━━━━━━━━━━━━━━━━━━━━━━\u001b[0m \u001b[32m86.8/86.8 kB\u001b[0m \u001b[31m7.9 MB/s\u001b[0m eta \u001b[36m0:00:00\u001b[0m\n",
            "\u001b[?25hCollecting xmltodict (from py3nvml->onnxruntime-tools>=1.4.2->transformers)\n",
            "  Downloading xmltodict-0.13.0-py2.py3-none-any.whl (10.0 kB)\n",
            "Requirement already satisfied: mpmath>=0.19 in /usr/local/lib/python3.10/dist-packages (from sympy->onnxruntime>=1.4.0->transformers) (1.3.0)\n",
            "Installing collected packages: tokenizers, safetensors, flatbuffers, xmltodict, onnx, humanfriendly, tf2onnx, py3nvml, onnxconverter-common, huggingface-hub, coloredlogs, transformers, onnxruntime-tools, onnxruntime\n",
            "  Attempting uninstall: flatbuffers\n",
            "    Found existing installation: flatbuffers 23.5.26\n",
            "    Uninstalling flatbuffers-23.5.26:\n",
            "      Successfully uninstalled flatbuffers-23.5.26\n",
            "Successfully installed coloredlogs-15.0.1 flatbuffers-2.0.7 huggingface-hub-0.16.4 humanfriendly-10.0 onnx-1.14.0 onnxconverter-common-1.13.0 onnxruntime-1.15.1 onnxruntime-tools-1.7.0 py3nvml-0.2.7 safetensors-0.3.1 tf2onnx-1.14.0 tokenizers-0.13.3 transformers-4.30.2 xmltodict-0.13.0\n"
          ]
        }
      ]
    },
    {
      "cell_type": "code",
      "source": [
        "from google.colab import drive\n",
        "drive.mount('/content/drive')"
      ],
      "metadata": {
        "colab": {
          "base_uri": "https://localhost:8080/"
        },
        "id": "6velyjkRRPeP",
        "outputId": "4763876a-8df0-4147-9f78-9cd239a3233a"
      },
      "execution_count": null,
      "outputs": [
        {
          "output_type": "stream",
          "name": "stdout",
          "text": [
            "Mounted at /content/drive\n"
          ]
        }
      ]
    },
    {
      "cell_type": "markdown",
      "source": [
        "## Import libraries"
      ],
      "metadata": {
        "id": "85aKtSfVkUsq"
      }
    },
    {
      "cell_type": "code",
      "source": [
        "import torch\n",
        "import onnxruntime as ort\n",
        "import os\n",
        "from transformers import AlbertForMaskedLM, RobertaTokenizerFast"
      ],
      "metadata": {
        "id": "VZ8dj_3bj8g3"
      },
      "execution_count": null,
      "outputs": []
    },
    {
      "cell_type": "markdown",
      "source": [
        "## Predictions using ONNX model"
      ],
      "metadata": {
        "id": "ZI8GcPtHkXLm"
      }
    },
    {
      "cell_type": "code",
      "source": [
        "# Load the fine-tuned model and tokenizer\n",
        "output_dir = '/content/drive/MyDrive/fine-tuned-albert'\n",
        "model = AlbertForMaskedLM.from_pretrained(output_dir)\n",
        "tokenizer = RobertaTokenizerFast.from_pretrained(output_dir)\n",
        "\n",
        "# Export the model to ONNX format\n",
        "onnx_path = \"/content/drive/MyDrive/fine-tuned-albert/fine_tuned_model.onnx\"\n",
        "input_names = [\"input_ids\", \"attention_mask\"]\n",
        "output_names = [\"output\"]\n",
        "dynamic_axes = {\n",
        "    \"input_ids\": {0: \"batch_size\", 1: \"sequence_length\"},\n",
        "    \"attention_mask\": {0: \"batch_size\", 1: \"sequence_length\"},\n",
        "    \"output\": {0: \"batch_size\", 1: \"sequence_length\"}\n",
        "}\n",
        "torch.onnx.export(\n",
        "    model,\n",
        "    (\n",
        "        torch.zeros([1, 1], dtype=torch.long),  # Placeholder input tensor for input_ids\n",
        "        torch.zeros([1, 1], dtype=torch.long),  # Placeholder input tensor for attention_mask\n",
        "    ),\n",
        "    onnx_path,\n",
        "    input_names=input_names,\n",
        "    output_names=output_names,\n",
        "    dynamic_axes=dynamic_axes,\n",
        "    opset_version=17\n",
        ")\n",
        "\n",
        "# Print the ONNX model path\n",
        "print(f\"ONNX model saved at: {onnx_path}\")\n"
      ],
      "metadata": {
        "colab": {
          "base_uri": "https://localhost:8080/"
        },
        "id": "p70gEc5-8yEI",
        "outputId": "519ada5e-68df-4a03-966d-a97e6f2b045c"
      },
      "execution_count": null,
      "outputs": [
        {
          "output_type": "stream",
          "name": "stdout",
          "text": [
            "============= Diagnostic Run torch.onnx.export version 2.0.1+cu118 =============\n",
            "verbose: False, log level: Level.ERROR\n",
            "======================= 0 NONE 0 NOTE 0 WARNING 0 ERROR ========================\n",
            "\n",
            "ONNX model saved at: /content/drive/MyDrive/fine-tuned-albert/fine_tuned_model.onnx\n"
          ]
        }
      ]
    },
    {
      "cell_type": "code",
      "source": [
        "import onnxruntime as ort\n",
        "import torch\n",
        "\n",
        "# Load the tokenizer\n",
        "output_dir = '/content/drive/MyDrive/fine-tuned-albert'\n",
        "tokenizer = RobertaTokenizerFast.from_pretrained(output_dir)\n",
        "\n",
        "# Load the ONNX model\n",
        "onnx_path = \"/content/drive/MyDrive/fine-tuned-albert/fine_tuned_model.onnx\"\n",
        "ort_session = ort.InferenceSession(onnx_path)\n",
        "\n",
        "# Example masked sentence\n",
        "masked_sentence = \"int <mask> = getCount();\"\n",
        "\n",
        "# Tokenize the masked sentence\n",
        "inputs = tokenizer.encode_plus(masked_sentence, add_special_tokens=False, return_tensors='pt')\n",
        "\n",
        "# Extract input tensors\n",
        "input_ids = inputs['input_ids']\n",
        "attention_mask = inputs['attention_mask']\n",
        "\n",
        "# Run the ONNX model\n",
        "outputs = ort_session.run(None, {\n",
        "    \"input_ids\": input_ids.numpy(),\n",
        "    \"attention_mask\": attention_mask.numpy(),\n",
        "})\n",
        "\n",
        "# Get the predictions\n",
        "predictions = outputs[0]\n",
        "\n",
        "# Find the position of the masked token\n",
        "masked_token_index = input_ids[0].tolist().index(tokenizer.mask_token_id)\n",
        "\n",
        "# Get the top predicted tokens\n",
        "top_k = torch.topk(torch.softmax(torch.tensor(predictions[0, masked_token_index]), dim=-1), k=5)\n",
        "\n",
        "# Decode and print the top predicted tokens\n",
        "print(\"ONNX Model Predictions:\")\n",
        "for i, idx in enumerate(top_k.indices):\n",
        "    token = tokenizer.convert_ids_to_tokens([idx])[0].replace('Ġ', '')\n",
        "    prob = top_k.values[i].item()\n",
        "    print(f\"{token}\")\n"
      ],
      "metadata": {
        "colab": {
          "base_uri": "https://localhost:8080/"
        },
        "id": "GMjXCs729Hw9",
        "outputId": "44184359-dac3-41db-842b-8004197c3bd1"
      },
      "execution_count": null,
      "outputs": [
        {
          "output_type": "stream",
          "name": "stdout",
          "text": [
            "ONNX Model Predictions:\n",
            "check\n",
            "m\n",
            "result\n",
            "res\n",
            "binding\n"
          ]
        }
      ]
    },
    {
      "cell_type": "code",
      "source": [
        "import torch\n",
        "from transformers import AlbertForMaskedLM, RobertaTokenizerFast\n",
        "\n",
        "def get_predictions(input_statement):\n",
        "    # Load the trained model and tokenizer\n",
        "    output_dir = '/content/drive/MyDrive/fine-tuned-albert'\n",
        "    model = AlbertForMaskedLM.from_pretrained(output_dir)\n",
        "    tokenizer = RobertaTokenizerFast.from_pretrained(output_dir)\n",
        "\n",
        "    # Tokenize the masked statement\n",
        "    input_ids = tokenizer.encode(input_statement, add_special_tokens=False, return_tensors='pt')\n",
        "\n",
        "    # Find the position of the masked token\n",
        "    masked_token_index = torch.where(input_ids == tokenizer.mask_token_id)[1][0].item()\n",
        "\n",
        "    # Generate predictions for the masked token using the fine-tuned model\n",
        "    with torch.no_grad():\n",
        "        outputs = model(input_ids)\n",
        "        predictions = outputs[0]\n",
        "\n",
        "    # Get the top 5 predictions and their probability scores from the fine-tuned model\n",
        "    probs_ft = torch.nn.functional.softmax(predictions[0, masked_token_index], dim=-1)\n",
        "    top_k_ft = torch.topk(probs_ft, k=5)\n",
        "\n",
        "    # Print the top predictions and their probabilities\n",
        "    print(\"Fine-Tuned Model Predictions:\")\n",
        "    for idx in top_k_ft.indices:\n",
        "        token = tokenizer.convert_ids_to_tokens([idx])[0].replace('Ġ', '').lower()\n",
        "        prob = probs_ft[idx].item()\n",
        "        print(f\"{token}\")\n",
        "\n",
        "# Example usage\n",
        "input_statement = \"int <mask> = getCount();\"\n",
        "get_predictions(input_statement)\n"
      ],
      "metadata": {
        "colab": {
          "base_uri": "https://localhost:8080/"
        },
        "id": "xkEj2wC_5yr3",
        "outputId": "6f996613-6ba0-4b72-9e09-46a7b986ef80"
      },
      "execution_count": null,
      "outputs": [
        {
          "output_type": "stream",
          "name": "stdout",
          "text": [
            "Fine-Tuned Model Predictions:\n",
            "check\n",
            "m\n",
            "result\n",
            "res\n",
            "binding\n"
          ]
        }
      ]
    }
  ]
}